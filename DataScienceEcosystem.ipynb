{
 "cells": [
  {
   "cell_type": "markdown",
   "id": "792b4573-1520-4835-b33a-326df9b61fb9",
   "metadata": {},
   "source": [
    "# Data Science Tools and Ecosystem"
   ]
  },
  {
   "cell_type": "markdown",
   "id": "86ef28b3-bbeb-4c06-983f-d6a1a1d7f2fb",
   "metadata": {},
   "source": [
    "In this notebook, Data Science Tools and Ecosystem are summarized."
   ]
  },
  {
   "cell_type": "markdown",
   "id": "d8fac11f-00a6-4e7e-889d-e0d11e571cee",
   "metadata": {},
   "source": [
    "# Exercise 4 - Create a markdown cell to list data science languages. (3 pts)\n",
    "Some of the popular languages that Data Scientists use are:\n",
    "\n",
    "1. Python\n",
    "2. Javascript\n",
    "3. R"
   ]
  },
  {
   "cell_type": "markdown",
   "id": "e72b28ad-6000-4606-9e8c-0e4d424ab65f",
   "metadata": {},
   "source": [
    "\n",
    "#Exercise 5 - Create a markdown cell to list data science libraries. (3 pts)\n",
    "Some of the commonly used libraries used by Data Scientists include:\n",
    "1. pandas\n",
    "2. scipy\n",
    "3. matplotlib\n",
    "4. numpy\n",
    "  "
   ]
  },
  {
   "cell_type": "markdown",
   "id": "9224cab3-f11f-42ae-9a55-44b4e1e04f26",
   "metadata": {},
   "source": [
    "\n",
    "#Exercise 6 - Create a markdown cell with a table of Data Science tools. (3 pts)\n",
    "| No. | Data Science Tools |\n",
    "| --- | --- |\n",
    "| 1 | Jupyter |\n",
    "| 2 | Anaconda |"
   ]
  },
  {
   "cell_type": "markdown",
   "id": "77b43c25-bafb-4586-8246-883598ef82ac",
   "metadata": {},
   "source": [
    "### Below are a few examples of evaluating arithmetic expressions in Python.\n",
    "- c= a*b\n",
    "- c= a+b\n",
    "- c= a-b"
   ]
  },
  {
   "cell_type": "code",
   "execution_count": null,
   "id": "848bf750-c281-413f-a6d6-79a4514046cc",
   "metadata": {},
   "outputs": [],
   "source": [
    "#Exercise 7 - Create a markdown cell introducing arithmetic expression examples. (1 pt)\n",
    "#This a simple arithmetic expression to multiply then add integers\n",
    "###Below are a few examples of evaluating arithmetic expressions in Python.\n",
    "\n",
    "(3*4)+5"
   ]
  },
  {
   "cell_type": "code",
   "execution_count": 6,
   "id": "47cf91d0-c09f-4b13-94fe-46088eefea30",
   "metadata": {},
   "outputs": [
    {
     "name": "stdout",
     "output_type": "stream",
     "text": [
      "20\n",
      "9\n"
     ]
    }
   ],
   "source": [
    "# Exercise 8 - Create a code cell to multiply and add numbers. (2 pts)\n",
    "a= 4\n",
    "b=5\n",
    "c= a*b\n",
    "d= a+b\n",
    "print(c)\n",
    "print(d)\n"
   ]
  },
  {
   "cell_type": "code",
   "execution_count": 4,
   "id": "40d271ff-73f3-4d90-b782-cafb931d391d",
   "metadata": {},
   "outputs": [
    {
     "name": "stdout",
     "output_type": "stream",
     "text": [
      "3\n"
     ]
    }
   ],
   "source": [
    "#Exercise 9 - Create a code cell to convert minutes to hours. (2 pts)\n",
    "#This will convert 200 minutes to hours by diving by 60\n",
    "hours = 220// 60\n",
    "\n",
    "print(hours)"
   ]
  },
  {
   "cell_type": "markdown",
   "id": "60ddae8b-86cd-4d1b-8cdf-01b85c67e91f",
   "metadata": {},
   "source": [
    "#Exercise 10 -Insert a markdown cell to list Objectives. (3 pts)\n",
    "Objectives:\n",
    "\n"
   ]
  },
  {
   "cell_type": "markdown",
   "id": "3116276f-6395-43df-82fa-53eb4e675aeb",
   "metadata": {},
   "source": [
    "#Exercise 11 - Create a markdown cell to indicate the Author’s name. (2 pts)\n",
    "Author name: Ruchira Jadhav"
   ]
  },
  {
   "cell_type": "code",
   "execution_count": null,
   "id": "bc7e3ed6-3ee5-4a4c-bb7a-1fddb04c40ba",
   "metadata": {},
   "outputs": [],
   "source": [
    "#Exercise 12 - Share your notebook through GitHub (3 pts)\n"
   ]
  },
  {
   "cell_type": "code",
   "execution_count": null,
   "id": "3ebd3cdd-ff1d-4e79-818b-d90032a0ffba",
   "metadata": {},
   "outputs": [],
   "source": [
    "#Exercise 13 - Take a screenshot of the first page of the notebook. (1 pt)"
   ]
  }
 ],
 "metadata": {
  "kernelspec": {
   "display_name": "Python 3 (ipykernel)",
   "language": "python",
   "name": "python3"
  },
  "language_info": {
   "codemirror_mode": {
    "name": "ipython",
    "version": 3
   },
   "file_extension": ".py",
   "mimetype": "text/x-python",
   "name": "python",
   "nbconvert_exporter": "python",
   "pygments_lexer": "ipython3",
   "version": "3.12.8"
  }
 },
 "nbformat": 4,
 "nbformat_minor": 5
}
